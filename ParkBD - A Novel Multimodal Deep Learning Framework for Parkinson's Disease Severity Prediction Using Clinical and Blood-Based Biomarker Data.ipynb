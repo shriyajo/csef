{
 "cells": [
  {
   "cell_type": "code",
   "execution_count": 5,
   "id": "54d0fcab",
   "metadata": {},
   "outputs": [],
   "source": [
    "import pandas as pd\n",
    "import numpy as np\n",
    "from sklearn.model_selection import GridSearchCV, StratifiedKFold\n",
    "from sklearn.preprocessing import StandardScaler\n",
    "from sklearn.pipeline import Pipeline\n",
    "from sklearn.linear_model import LogisticRegression\n",
    "from sklearn.metrics import accuracy_score\n",
    "import networkx as nx\n",
    "import matplotlib.pyplot as plt\n",
    "from sklearn.preprocessing import StandardScaler"
   ]
  },
  {
   "cell_type": "code",
   "execution_count": 6,
   "id": "b1b7d751",
   "metadata": {},
   "outputs": [],
   "source": [
    "peptides=pd.read_csv(r\"C:\\Users\\jshri\\OneDrive\\Desktop\\train_peptides.csv\")\n",
    "proteins=pd.read_csv(r\"C:\\Users\\jshri\\OneDrive\\Desktop\\train_proteins.csv\")\n",
    "clinical_data=pd.read_csv(r\"C:\\Users\\jshri\\OneDrive\\Desktop\\train_clinical_data.csv\")\n",
    "supp_clinical=pd.read_csv(r\"C:\\Users\\jshri\\OneDrive\\Desktop\\supplemental_clinical_data.csv\") "
   ]
  },
  {
   "cell_type": "code",
   "execution_count": 7,
   "id": "88c4bfda",
   "metadata": {},
   "outputs": [
    {
     "name": "stdout",
     "output_type": "stream",
     "text": [
      "<class 'pandas.core.frame.DataFrame'>\n",
      "RangeIndex: 4838 entries, 0 to 4837\n",
      "Data columns (total 8 columns):\n",
      " #   Column                               Non-Null Count  Dtype  \n",
      "---  ------                               --------------  -----  \n",
      " 0   visit_id                             4838 non-null   object \n",
      " 1   patient_id                           4838 non-null   int64  \n",
      " 2   visit_month                          4838 non-null   int64  \n",
      " 3   updrs_1                              4624 non-null   float64\n",
      " 4   updrs_2                              4622 non-null   float64\n",
      " 5   updrs_3                              4808 non-null   float64\n",
      " 6   updrs_4                              2872 non-null   float64\n",
      " 7   upd23b_clinical_state_on_medication  2410 non-null   object \n",
      "dtypes: float64(4), int64(2), object(2)\n",
      "memory usage: 302.5+ KB\n"
     ]
    },
    {
     "data": {
      "text/plain": [
       "None"
      ]
     },
     "metadata": {},
     "output_type": "display_data"
    },
    {
     "name": "stdout",
     "output_type": "stream",
     "text": [
      "<class 'pandas.core.frame.DataFrame'>\n",
      "Int64Index: 981834 entries, 0 to 981833\n",
      "Data columns (total 12 columns):\n",
      " #   Column                               Non-Null Count   Dtype  \n",
      "---  ------                               --------------   -----  \n",
      " 0   visit_id                             981834 non-null  object \n",
      " 1   visit_month                          981834 non-null  int64  \n",
      " 2   patient_id                           981834 non-null  int64  \n",
      " 3   UniProt                              981834 non-null  object \n",
      " 4   Peptide                              981834 non-null  object \n",
      " 5   PeptideAbundance                     981834 non-null  float64\n",
      " 6   NPX                                  981834 non-null  float64\n",
      " 7   updrs_1                              941744 non-null  float64\n",
      " 8   updrs_2                              941744 non-null  float64\n",
      " 9   updrs_3                              932624 non-null  float64\n",
      " 10  updrs_4                              495530 non-null  float64\n",
      " 11  upd23b_clinical_state_on_medication  391725 non-null  object \n",
      "dtypes: float64(6), int64(2), object(4)\n",
      "memory usage: 97.4+ MB\n"
     ]
    },
    {
     "data": {
      "text/plain": [
       "C(UniMod_4)     302757\n",
       "M(UniMod_35)     25932\n",
       "Name: Peptide, dtype: int64"
      ]
     },
     "execution_count": 7,
     "metadata": {},
     "output_type": "execute_result"
    }
   ],
   "source": [
    "all(proteins[['visit_id', 'UniProt']].value_counts() == 1)\n",
    "df_p = peptides.merge(proteins[['visit_id', 'UniProt', 'NPX']], on=['visit_id','UniProt'], how='left')\n",
    "df_p.head()\n",
    "#I've rewritten visit_id for supplemental clinical data since it seems that its visit_id was different from convention in other files\n",
    "supp_clinical['visit_id'] = supp_clinical['patient_id'].astype(str) + \"_\"+ supp_clinical['visit_month'].astype(str)\n",
    "\n",
    "#Here we combine both main and supplemental clinical data into a single dataframe\n",
    "df_cd = pd.concat([clinical_data, supp_clinical], ignore_index=True)\n",
    "display(df_cd.info())\n",
    "df_cd.melt(id_vars=['visit_id', 'patient_id', 'visit_month', 'upd23b_clinical_state_on_medication'], \n",
    "                   var_name='updrs', value_name='rating')\n",
    "df_all = df_p.merge(df_cd[['visit_id','updrs_1','updrs_2','updrs_3','updrs_4','upd23b_clinical_state_on_medication']], on=['visit_id'], how='left')\n",
    "df_all.info()\n",
    "df_all['Peptide'].str.extract(r\"(.\\(.*?\\))\", expand=False).value_counts()"
   ]
  },
  {
   "cell_type": "code",
   "execution_count": 8,
   "id": "435bb511",
   "metadata": {},
   "outputs": [
    {
     "name": "stdout",
     "output_type": "stream",
     "text": [
      "2\n"
     ]
    }
   ],
   "source": [
    "import pandas as pd\n",
    "df = df_all\n",
    "# Create a new column that checks whether all UPDRS values are 0\n",
    "df['all_UPDRS_0'] = ((df['updrs_1'] == 0) & (df['updrs_2'] == 0) &\n",
    "                     (df['updrs_3'] == 0) & (df['updrs_4'] == 0))\n",
    "\n",
    "# Group the control patients based on whether all UPDRS values are 0\n",
    "control_groups = df[\n",
    "                    (df['all_UPDRS_0'] == True)]\n",
    "\n",
    "# Print the resulting groups\n",
    "control_groups.head(40)\n",
    "num_patients = control_groups['visit_month'].nunique()\n",
    "print(num_patients)"
   ]
  },
  {
   "cell_type": "code",
   "execution_count": 9,
   "id": "941f69ed",
   "metadata": {},
   "outputs": [],
   "source": [
    "df_all = df_all.drop(['updrs_4', 'upd23b_clinical_state_on_medication'], axis=1)"
   ]
  },
  {
   "cell_type": "code",
   "execution_count": 10,
   "id": "d32a7f5e",
   "metadata": {},
   "outputs": [],
   "source": [
    "updrs_cutoffs = {'updrs_1': 1.5, 'updrs_2': 5, 'updrs_3': 13}"
   ]
  },
  {
   "cell_type": "code",
   "execution_count": 11,
   "id": "ff77ff50",
   "metadata": {},
   "outputs": [],
   "source": [
    "# Create a new column indicating whether an individual is less likely to have Parkinson's disease\n",
    "df['no_pd'] = (df_all['updrs_1'] <= updrs_cutoffs['updrs_1']) & (df_all['updrs_2'] <= updrs_cutoffs['updrs_2']) &  (df_all['updrs_3'] <= updrs_cutoffs['updrs_3'])"
   ]
  },
  {
   "cell_type": "code",
   "execution_count": 12,
   "id": "d244432a",
   "metadata": {},
   "outputs": [],
   "source": [
    "# Separate no_pd == True (control) and no_pd == False (PD) into different dataframes\n",
    "control_df = df[df['no_pd'] == True]\n",
    "pd_df = df[df['no_pd'] == False]\n",
    "\n",
    "# Drop updrs_4 and all_UPDRS_0 columns\n",
    "control_df = control_df.drop(['updrs_4', 'all_UPDRS_0'], axis=1)\n",
    "pd_df = pd_df.drop(['updrs_4', 'all_UPDRS_0'], axis=1)"
   ]
  },
  {
   "cell_type": "code",
   "execution_count": 13,
   "id": "87c648cb",
   "metadata": {},
   "outputs": [],
   "source": [
    "control_df = control_df.drop(['visit_id', 'visit_month', 'UniProt', 'NPX','updrs_1', 'updrs_2', 'updrs_3', 'upd23b_clinical_state_on_medication' ,'no_pd'  ], axis=1) "
   ]
  },
  {
   "cell_type": "code",
   "execution_count": 14,
   "id": "feee3946",
   "metadata": {},
   "outputs": [],
   "source": [
    "pd_df = pd_df.drop(['visit_id', 'visit_month', 'UniProt', 'NPX','updrs_1', 'updrs_2', 'updrs_3', 'upd23b_clinical_state_on_medication' ,'no_pd'  ], axis=1) "
   ]
  },
  {
   "cell_type": "code",
   "execution_count": 15,
   "id": "e5d1ae28",
   "metadata": {},
   "outputs": [],
   "source": [
    "import matplotlib.pyplot as plt\n",
    "import numpy as np\n",
    "from sklearn import datasets, ensemble\n",
    "from sklearn.inspection import permutation_importance\n",
    "from sklearn.metrics import mean_squared_error\n",
    "from sklearn.model_selection import train_test_split"
   ]
  },
  {
   "cell_type": "code",
   "execution_count": 16,
   "id": "9100ac08",
   "metadata": {},
   "outputs": [],
   "source": [
    "from xgboost import XGBClassifier\n",
    "from sklearn.model_selection import train_test_split\n",
    "from sklearn.metrics import accuracy_score"
   ]
  },
  {
   "cell_type": "code",
   "execution_count": 18,
   "id": "2ecbb846",
   "metadata": {},
   "outputs": [
    {
     "name": "stderr",
     "output_type": "stream",
     "text": [
      "C:\\Users\\jshri\\AppData\\Local\\Temp\\ipykernel_13416\\1584264029.py:11: SettingWithCopyWarning: \n",
      "A value is trying to be set on a copy of a slice from a DataFrame\n",
      "\n",
      "See the caveats in the documentation: https://pandas.pydata.org/pandas-docs/stable/user_guide/indexing.html#returning-a-view-versus-a-copy\n",
      "  control_df.fillna(0, inplace=True)\n",
      "C:\\Users\\jshri\\AppData\\Local\\Temp\\ipykernel_13416\\1584264029.py:12: SettingWithCopyWarning: \n",
      "A value is trying to be set on a copy of a slice from a DataFrame\n",
      "\n",
      "See the caveats in the documentation: https://pandas.pydata.org/pandas-docs/stable/user_guide/indexing.html#returning-a-view-versus-a-copy\n",
      "  pd_df.fillna(0, inplace=True)\n"
     ]
    },
    {
     "name": "stdout",
     "output_type": "stream",
     "text": [
      "Accuracy: 0.8861315801534881\n"
     ]
    }
   ],
   "source": [
    "import pandas as pd\n",
    "from sklearn.preprocessing import StandardScaler\n",
    "from sklearn.model_selection import train_test_split\n",
    "from sklearn.linear_model import LogisticRegression\n",
    "from sklearn.linear_model import ElasticNet\n",
    "from sklearn.datasets import make_regression\n",
    "\n",
    "# Separate no_pd == True (control) and no_pd == False (PD) into different dataframes\n",
    "control_df = df[df['no_pd'] == True]\n",
    "pd_df = df[df['no_pd'] == False]\n",
    "control_df.fillna(0, inplace=True)\n",
    "pd_df.fillna(0, inplace=True)\n",
    "\n",
    "# Drop updrs_4 and all_UPDRS_0 columns\n",
    "control_df = control_df.drop(['updrs_4', 'all_UPDRS_0'], axis=1)\n",
    "pd_df = pd_df.drop(['updrs_4', 'all_UPDRS_0'], axis=1) \n",
    "\n",
    "# Split the data into training and testing sets\n",
    "X_train, X_test, y_train, y_test = train_test_split(\n",
    "    pd.concat([control_df, pd_df])[['PeptideAbundance']],\n",
    "    pd.concat([control_df, pd_df])['no_pd'].astype(int),\n",
    "    test_size=0.2, \n",
    "    random_state=7)\n",
    "\n",
    "model = XGBClassifier(scale_pos_weight=1,\n",
    "                      learning_rate=0.2,  \n",
    "                      colsample_bytree = 0.9,\n",
    "                      subsample = 0.3,\n",
    "                      objective='reg:logistic', \n",
    "                      n_estimators=1000, \n",
    "                      reg_alpha = 0.3,\n",
    "                      max_depth=6, \n",
    "                      gamma=1)\n",
    "model.fit(X_train,y_train)\n",
    "\n",
    "# Test the model on the testing set\n",
    "accuracy = model.score(X_test, y_test)\n",
    "print(f\"Accuracy: {accuracy}\")"
   ]
  },
  {
   "cell_type": "code",
   "execution_count": null,
   "id": "4df4870c",
   "metadata": {},
   "outputs": [],
   "source": []
  }
 ],
 "metadata": {
  "kernelspec": {
   "display_name": "Python 3 (ipykernel)",
   "language": "python",
   "name": "python3"
  },
  "language_info": {
   "codemirror_mode": {
    "name": "ipython",
    "version": 3
   },
   "file_extension": ".py",
   "mimetype": "text/x-python",
   "name": "python",
   "nbconvert_exporter": "python",
   "pygments_lexer": "ipython3",
   "version": "3.9.13"
  }
 },
 "nbformat": 4,
 "nbformat_minor": 5
}
